{
 "cells": [
  {
   "cell_type": "code",
   "execution_count": null,
   "metadata": {},
   "outputs": [],
   "source": [
    "import matplotlib.pyplot as plt\n",
    "import nrrd\n",
    "import numpy as np\n",
    "import os\n",
    "import sys\n",
    "import tensorflow as tf\n",
    "import tensorflow.keras as keras\n",
    "\n",
    "sys.path.append('..')\n",
    "\n",
    "from training.Networks import UNetGen"
   ]
  },
  {
   "cell_type": "code",
   "execution_count": null,
   "metadata": {},
   "outputs": [],
   "source": [
    "# Load images and normalise by min and max voxel intensities\n",
    "img1, _ = nrrd.read(\"5 4.0 Cryo CTF  CE.nrrd\")\n",
    "img2, _ = nrrd.read(\"53 4.0 Cryo CTF  CE.nrrd\")\n",
    "\n",
    "TOSHIBA_MIN = -2917\n",
    "TOSHIBA_MAX = 16297\n",
    "\n",
    "img1 = (img1 - TOSHIBA_MIN) / (TOSHIBA_MAX - TOSHIBA_MIN)\n",
    "img2 = (img2 - TOSHIBA_MIN) / (TOSHIBA_MAX - TOSHIBA_MIN)\n",
    "\n",
    "fig, axs = plt.subplots(1, 2, figsize=(20, 20))\n",
    "axs[0].imshow(np.fliplr(img1[:, :, 2].T), origin='lower', cmap='gray', vmin=0.12, vmax=0.18)\n",
    "axs[1].imshow(np.fliplr(img2[:, :, 1].T), origin='lower', cmap='gray', vmin=0.12, vmax=0.18)\n"
   ]
  },
  {
   "cell_type": "code",
   "execution_count": null,
   "metadata": {},
   "outputs": [],
   "source": [
    "# Generate U-Net\n",
    "UNet = UNetGen((512, 512, 12, 1, ), 4)"
   ]
  }
 ],
 "metadata": {
  "kernelspec": {
   "display_name": "GpuEnv2",
   "language": "python",
   "name": "gpuenv2"
  },
  "language_info": {
   "codemirror_mode": {
    "name": "ipython",
    "version": 3
   },
   "file_extension": ".py",
   "mimetype": "text/x-python",
   "name": "python",
   "nbconvert_exporter": "python",
   "pygments_lexer": "ipython3",
   "version": "3.7.3"
  }
 },
 "nbformat": 4,
 "nbformat_minor": 2
}
